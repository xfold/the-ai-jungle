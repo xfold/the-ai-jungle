{
 "cells": [
  {
   "cell_type": "markdown",
   "metadata": {},
   "source": [
    "# Pydantic\n",
    "\n",
    "In this code, I've used the Pydantic library and typing. Both are powerful tool for data validation using Python type annotations. \n",
    "\n",
    "I've checked how Pydantic enforces type checking and raises errors when data of the wrong type is provided. I've also shown how Pydantic can parse data from complex types to simple Python types and vice versa. I created a `User` object from a dictionary, serialized the `User` object to JSON, and then parsed the JSON back to a `User` object. Pydantic handled all of these type conversions automatically, ensuring the integrity of the data and making the data handling process easier."
   ]
  },
  {
   "cell_type": "code",
   "execution_count": 6,
   "metadata": {},
   "outputs": [],
   "source": [
    "from pydantic import BaseModel\n",
    "from typing import List, Optional"
   ]
  },
  {
   "cell_type": "markdown",
   "metadata": {},
   "source": [
    "# Simple User class\n",
    "Formed by 4 variables:\n",
    "* int\n",
    "* str\n",
    "* List[int]\n",
    "* Optional[str]. The `Optional` field means that it can be either of a certain type or None. \n"
   ]
  },
  {
   "cell_type": "code",
   "execution_count": 7,
   "metadata": {},
   "outputs": [],
   "source": [
    "class User(BaseModel):\n",
    "    id                      :      int\n",
    "    name                    :      str\n",
    "    friend_ids              :      List[int]\n",
    "    email                   :      Optional[str]        = None"
   ]
  },
  {
   "cell_type": "markdown",
   "metadata": {},
   "source": [
    "# Validation\n",
    "Now, let's show how Pydantic performs data validation and raises errors when data of the wrong type is provided:\n",
    "1. Here, we try to initialize a User object with a string for the id and a string in the friend_ids list, both of which should be integers. Pydantic raises a *validation error*, indicating that these values are not valid integers"
   ]
  },
  {
   "cell_type": "code",
   "execution_count": 8,
   "metadata": {},
   "outputs": [
    {
     "name": "stdout",
     "output_type": "stream",
     "text": [
      "1 validation error for User\n",
      "friend_ids -> 2\n",
      "  value is not a valid integer (type=type_error.integer)\n"
     ]
    }
   ],
   "source": [
    "try:\n",
    "    u = User(id=\"123\", name=\"Alice\", friend_ids=[1, 2, \"three\"])\n",
    "except Exception as e:\n",
    "    print(e)"
   ]
  },
  {
   "cell_type": "markdown",
   "metadata": {},
   "source": [
    "2. In this example, we create a User object from a dictionary, serialize the User object to JSON, and then parse the JSON back to a User object. Each of these steps involves converting data between different types, and Pydantic handles all of the conversions for us."
   ]
  },
  {
   "cell_type": "code",
   "execution_count": 13,
   "metadata": {},
   "outputs": [
    {
     "name": "stdout",
     "output_type": "stream",
     "text": [
      "> Original User object\n",
      "id=123 name='Alice' friend_ids=[1, 2, 3] email=None\n",
      "> User object -> JSON\n",
      "{\"id\": 123, \"name\": \"Alice\", \"friend_ids\": [1, 2, 3], \"email\": null}\n",
      "> JSON -> User object\n",
      "id=123 name='Alice' friend_ids=[1, 2, 3] email=None\n"
     ]
    }
   ],
   "source": [
    "# Parsing a dictionary to a User object\n",
    "# As you can see, Pydantic automatically sets the email field to None if no value is provided.\n",
    "user_dict = {\"id\": 123, \"name\": \"Alice\", \"friend_ids\": [1, 2, 3]}\n",
    "u = User(**user_dict)\n",
    "print(\"> Original User object\")\n",
    "print(u)\n",
    "\n",
    "# Serializing a User object to JSON\n",
    "user_json = u.json()\n",
    "print(f\"> User object -> JSON\")\n",
    "print(user_json)\n",
    "\n",
    "# Parsing JSON to a User object\n",
    "u2 = User.parse_raw(user_json)\n",
    "print(f\"> JSON -> User object\")\n",
    "print(u2)\n"
   ]
  },
  {
   "cell_type": "markdown",
   "metadata": {},
   "source": [
    "3. If email value is provided, then it's value is stored"
   ]
  },
  {
   "cell_type": "code",
   "execution_count": 14,
   "metadata": {},
   "outputs": [
    {
     "name": "stdout",
     "output_type": "stream",
     "text": [
      "id=123 name='Alice' friend_ids=[1, 2, 3] email='alice@example.com'\n"
     ]
    }
   ],
   "source": [
    "u = User(id=123, name=\"Alice\", friend_ids=[1, 2, 3], email=\"alice@example.com\")\n",
    "print(u)"
   ]
  },
  {
   "cell_type": "markdown",
   "metadata": {},
   "source": [
    "4. Validation error because the provided email is not a valid email address. This shows how Pydantic can enforce complex data types beyond the basic Python types"
   ]
  },
  {
   "cell_type": "code",
   "execution_count": 18,
   "metadata": {},
   "outputs": [
    {
     "name": "stdout",
     "output_type": "stream",
     "text": [
      "1 validation error for User\n",
      "email\n",
      "  str type expected (type=type_error.str)\n"
     ]
    }
   ],
   "source": [
    "try:\n",
    "    u = User(id=123, name=\"Alice\", friend_ids=[1, 2, 3], email=[2])\n",
    "    print(u)\n",
    "except Exception as e:\n",
    "    print(e)"
   ]
  },
  {
   "cell_type": "code",
   "execution_count": null,
   "metadata": {},
   "outputs": [],
   "source": []
  }
 ],
 "metadata": {
  "kernelspec": {
   "display_name": "Python 3",
   "language": "python",
   "name": "python3"
  },
  "language_info": {
   "codemirror_mode": {
    "name": "ipython",
    "version": 3
   },
   "file_extension": ".py",
   "mimetype": "text/x-python",
   "name": "python",
   "nbconvert_exporter": "python",
   "pygments_lexer": "ipython3",
   "version": "3.9.6"
  },
  "orig_nbformat": 4
 },
 "nbformat": 4,
 "nbformat_minor": 2
}
