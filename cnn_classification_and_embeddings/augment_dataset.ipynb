{
 "cells": [
  {
   "cell_type": "markdown",
   "metadata": {},
   "source": [
    "# Data augmentation"
   ]
  },
  {
   "cell_type": "markdown",
   "metadata": {},
   "source": [
    "Generating more training images can be achieved using data augmentation. Data augmentation applies various transformations to your images, such as rotation, zooming, flipping, and more, to artificially increase the size of your dataset. This not only provides more training data but can also help improve the generalization of your model."
   ]
  },
  {
   "cell_type": "code",
   "execution_count": 9,
   "metadata": {},
   "outputs": [],
   "source": [
    "from tensorflow.keras.preprocessing.image import ImageDataGenerator\n",
    "import os\n",
    "import numpy as np\n",
    "import matplotlib.pyplot as plt\n",
    "from PIL import Image\n",
    "\n",
    "\n",
    "images_to_generate = 3\n",
    "\n",
    "# Create an instance of the ImageDataGenerator with desired augmentations\n",
    "datagen = ImageDataGenerator(\n",
    "    rotation_range=20,\n",
    "    width_shift_range=0.2,\n",
    "    height_shift_range=0.2,\n",
    "    shear_range=0.2,\n",
    "    zoom_range=0.2,\n",
    "    horizontal_flip=True,\n",
    "    fill_mode='nearest')\n",
    "\n",
    "# Directory paths for each class\n",
    "paths = {\n",
    "    'Mario': 'data/mario/',\n",
    "    'Luigi': 'data/luigi/',\n",
    "    'Toad':  'data/toad/'\n",
    "}\n",
    "\n",
    "# For each class, load images and augment\n",
    "for char, path in paths.items():\n",
    "    for img_name in os.listdir(path):\n",
    "        img_path = os.path.join(path, img_name)\n",
    "        \n",
    "        # Convert image to RGB and expand dimensions\n",
    "        image = Image.open(img_path).convert('RGB')\n",
    "        image = np.expand_dims(np.array(image), 0)\n",
    "        \n",
    "        # Save augmented images to the directory. Let's create n augmented images for each original image.\n",
    "        i = 0\n",
    "        for batch in datagen.flow(image, batch_size=1, save_to_dir=path, save_prefix=char, save_format='jpeg'):\n",
    "            i += 1\n",
    "            if i > images_to_generate:\n",
    "                break\n",
    "\n"
   ]
  }
 ],
 "metadata": {
  "kernelspec": {
   "display_name": "tf",
   "language": "python",
   "name": "python3"
  },
  "language_info": {
   "codemirror_mode": {
    "name": "ipython",
    "version": 3
   },
   "file_extension": ".py",
   "mimetype": "text/x-python",
   "name": "python",
   "nbconvert_exporter": "python",
   "pygments_lexer": "ipython3",
   "version": "3.10.12"
  },
  "orig_nbformat": 4
 },
 "nbformat": 4,
 "nbformat_minor": 2
}
