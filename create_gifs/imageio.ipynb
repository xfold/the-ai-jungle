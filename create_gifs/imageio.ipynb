{
 "cells": [
  {
   "cell_type": "code",
   "execution_count": 1,
   "metadata": {},
   "outputs": [],
   "source": [
    "import matplotlib.pyplot as plt\n",
    "import imageio\n",
    "from PIL import Image"
   ]
  },
  {
   "cell_type": "code",
   "execution_count": 2,
   "metadata": {},
   "outputs": [],
   "source": [
    "x = [1, 2, 3, 4, 4, 4, 4, 3, 2, 1, 1, 1, 1]\n",
    "y = [1, 1, 1, 1, 2, 3, 4, 4, 4, 4, 3, 2, 1]\n",
    "time = [0, 1, 2, 3, 4, 5, 6, 7, 8, 9, 10, 11, 12]"
   ]
  },
  {
   "cell_type": "code",
   "execution_count": 3,
   "metadata": {},
   "outputs": [],
   "source": [
    "def create_frame(t):\n",
    "    fig = plt.figure(figsize=(6, 6))\n",
    "    plt.plot(x[:(t+1)], y[:(t+1)], color = 'grey' )\n",
    "    plt.plot(x[t], y[t], color = 'black', marker = 'o' )\n",
    "    plt.xlim([0,5])\n",
    "    plt.xlabel('x', fontsize = 14)\n",
    "    plt.ylim([0,5])\n",
    "    plt.ylabel('y', fontsize = 14)\n",
    "    plt.title(f'Relationship between x and y at step {t}',\n",
    "              fontsize=14)\n",
    "    plt.savefig(f'img/img_{t}.png', \n",
    "                transparent = False,  \n",
    "                facecolor = 'white'\n",
    "               )\n",
    "    plt.close()"
   ]
  },
  {
   "cell_type": "code",
   "execution_count": 4,
   "metadata": {},
   "outputs": [],
   "source": [
    "# run\n",
    "for t in time:\n",
    "    create_frame(t)"
   ]
  },
  {
   "cell_type": "code",
   "execution_count": 5,
   "metadata": {},
   "outputs": [],
   "source": [
    "# append all frames\n",
    "frames = []\n",
    "for t in time:\n",
    "    image = imageio.v2.imread(f'img/img_{t}.png')\n",
    "    frames.append(image)"
   ]
  },
  {
   "cell_type": "code",
   "execution_count": 6,
   "metadata": {},
   "outputs": [],
   "source": [
    "imageio.mimsave('img/example.gif', # output gif\n",
    "                frames,          # array of input frames\n",
    "                duration = 500,  # optional: duration in ms between frames\n",
    "                loop = 1)        # optional: loop"
   ]
  },
  {
   "cell_type": "code",
   "execution_count": null,
   "metadata": {},
   "outputs": [],
   "source": []
  }
 ],
 "metadata": {
  "kernelspec": {
   "display_name": "nannyml",
   "language": "python",
   "name": "python3"
  },
  "language_info": {
   "codemirror_mode": {
    "name": "ipython",
    "version": 3
   },
   "file_extension": ".py",
   "mimetype": "text/x-python",
   "name": "python",
   "nbconvert_exporter": "python",
   "pygments_lexer": "ipython3",
   "version": "3.9.6"
  },
  "orig_nbformat": 4
 },
 "nbformat": 4,
 "nbformat_minor": 2
}
