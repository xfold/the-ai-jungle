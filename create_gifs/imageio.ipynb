{
 "cells": [
  {
   "cell_type": "markdown",
   "metadata": {},
   "source": [
    "# Creating Animated Visualizations with Python\n",
    "\n",
    "This Jupyter notebook demonstrates how to create a GIF from a series of images using Python and the libraries Matplotlib and Imageio. The concept is to plot a series of images, save those images to a directory, and then compile them into a GIF.\n",
    "\n",
    "The first part of the code defines three lists `x`, `y`, and `time`. These lists represent a set of coordinates and corresponding time steps. A function named `create_frame(t)` is then defined which generates a plot of the path traced by the coordinates up to time `t`. This function uses Matplotlib to create the plot, then saves the plot as a PNG image in an `img` directory. The function is then called for each time step, resulting in a series of images that show the path up to each time point.\n",
    "\n",
    "The second part of the code uses the Imageio library to compile these images into a GIF. First, it creates an array of frames by reading each image file with `imageio.imread()`. Then, it uses the `imageio.mimsave()` function to compile these frames into a GIF, specifying the output path, the frames, the duration for each frame, and the number of loops for the GIF. Finally, the GIF is displayed in the Jupyter notebook using `IPython.display.Image`.\n",
    "\n",
    "It's important to note that the `x` and `y` lists in this example are arbitrary and serve as placeholders for the data you might want to visualize. You can replace these with your own data to visualize different paths or motions. The real power of this code is its ability to convert a sequence of images into a smooth and informative animation.\n"
   ]
  },
  {
   "cell_type": "code",
   "execution_count": 9,
   "metadata": {},
   "outputs": [],
   "source": [
    "import matplotlib.pyplot as plt\n",
    "import imageio\n",
    "from PIL import Image\n",
    "from IPython.display import Image\n",
    "import numpy as np"
   ]
  },
  {
   "cell_type": "code",
   "execution_count": 10,
   "metadata": {},
   "outputs": [],
   "source": [
    "# Define the number of points and the maximum radius of the spiral\n",
    "num_points = 20\n",
    "max_radius = 3"
   ]
  },
  {
   "cell_type": "code",
   "execution_count": 13,
   "metadata": {},
   "outputs": [],
   "source": [
    "# Define an array of theta values (angles) from 0 to 2*pi\n",
    "theta = np.linspace(0, 4*np.pi, num_points)\n",
    "\n",
    "# Define the radius values as an increasing function of theta\n",
    "radius = np.linspace(0, max_radius, num_points)\n",
    "\n",
    "# Convert polar coordinates to Cartesian coordinates\n",
    "x = radius * np.cos(theta)\n",
    "y = radius * np.sin(theta)\n",
    "time= list(range(num_points))\n",
    "\n",
    "def create_frame(t):\n",
    "    fig = plt.figure(figsize=(6, 6))\n",
    "    plt.plot(x[:(t+1)], y[:(t+1)], color = 'grey' )\n",
    "    plt.plot(x[t], y[t], color = 'black', marker = 'o' )\n",
    "    plt.xlim([-5,5])\n",
    "    plt.xlabel('x', fontsize = 14)\n",
    "    plt.ylim([-5,5])\n",
    "    plt.ylabel('y', fontsize = 14)\n",
    "    plt.title(f'Relationship between x and y at step {t}',\n",
    "              fontsize=14)\n",
    "    plt.savefig(f'img/img_{t}.png', \n",
    "                transparent = False,  \n",
    "                facecolor = 'white'\n",
    "               )\n",
    "    plt.close()\n",
    "\n",
    "# run\n",
    "for t in time:\n",
    "    create_frame(t)\n",
    "\n",
    "# append all frames\n",
    "frames = []\n",
    "for t in time:\n",
    "    image = imageio.v2.imread(f'img/img_{t}.png')\n",
    "    frames.append(image)\n",
    "\n",
    "path = 'img/example_gif.gif'\n",
    "imageio.mimsave(path, # output gif\n",
    "                frames,          # array of input frames\n",
    "                duration = 500,  # optional: duration in ms between frames\n",
    "                loop = 1)        # optional: loop\n",
    "\n"
   ]
  },
  {
   "cell_type": "code",
   "execution_count": 14,
   "metadata": {},
   "outputs": [
    {
     "data": {
      "text/html": [
       "<img src=\"img/example_gif.gif\"/>"
      ],
      "text/plain": [
       "<IPython.core.display.Image object>"
      ]
     },
     "execution_count": 14,
     "metadata": {},
     "output_type": "execute_result"
    }
   ],
   "source": [
    "#display\n",
    "Image(url=path)"
   ]
  }
 ],
 "metadata": {
  "kernelspec": {
   "display_name": "nannyml",
   "language": "python",
   "name": "python3"
  },
  "language_info": {
   "codemirror_mode": {
    "name": "ipython",
    "version": 3
   },
   "file_extension": ".py",
   "mimetype": "text/x-python",
   "name": "python",
   "nbconvert_exporter": "python",
   "pygments_lexer": "ipython3",
   "version": "3.9.6"
  },
  "orig_nbformat": 4
 },
 "nbformat": 4,
 "nbformat_minor": 2
}
