{
 "cells": [
  {
   "cell_type": "markdown",
   "metadata": {},
   "source": [
    "# pip libs \n",
    "These commands are used to retrieve information about certain Python packages installed in the current Python environment. \n",
    "The pip show command followed by a package name, when run in a shell, returns information about the specified package. \n",
    "This includes the package's name, version, summary description, author, license, location, and dependencies, among other details.\n",
    "\n",
    "When you use these commands in a Jupyter notebook with the exclamation point ! prefix, you are essentially running these shell \n",
    "commands within the notebook. This is a convenient way to access command line tools without having to leave the notebook environment."
   ]
  },
  {
   "cell_type": "code",
   "execution_count": null,
   "metadata": {},
   "outputs": [],
   "source": [
    "!pip show matplotlib\n",
    "!pip show imageio\n",
    "!pip show Pillow"
   ]
  }
 ],
 "metadata": {
  "kernelspec": {
   "display_name": "Python 3",
   "language": "python",
   "name": "python3"
  },
  "language_info": {
   "codemirror_mode": {
    "name": "ipython",
    "version": 3
   },
   "file_extension": ".py",
   "mimetype": "text/x-python",
   "name": "python",
   "nbconvert_exporter": "python",
   "pygments_lexer": "ipython3",
   "version": "3.9.6"
  },
  "orig_nbformat": 4
 },
 "nbformat": 4,
 "nbformat_minor": 2
}
