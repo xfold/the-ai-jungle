{
 "cells": [
  {
   "cell_type": "markdown",
   "metadata": {},
   "source": [
    "# Timeit comparison between pip-like coding vs std line coding  \n",
    "This compares a pipe-like concatenation of pandas dataframe functoins with a standard\n",
    "line-by-line approach of pandas coding\n",
    "\n",
    "Seems that standrd coding is slightly faster, like "
   ]
  },
  {
   "cell_type": "code",
   "execution_count": 2,
   "metadata": {},
   "outputs": [],
   "source": [
    "import pandas as pd  \n",
    "import datetime     \n",
    "from enum import Enum    \n",
    "import time\n",
    "import matplotlib.pyplot as plt"
   ]
  },
  {
   "cell_type": "markdown",
   "metadata": {},
   "source": [
    "# Utils"
   ]
  },
  {
   "cell_type": "code",
   "execution_count": 6,
   "metadata": {},
   "outputs": [],
   "source": [
    "class ColumnType(Enum):\n",
    "    DATETIME = 'datetime64[ns]'\n",
    "    TIMESTAMP = 'datetime64[us]'\n",
    "    STRING = 'str'\n",
    "    INTEGER = 'Int64'\n",
    "    FLOAT = 'float64'\n",
    "    BOOLEAN = 'bool'\n",
    "\n",
    "def time_function(func, repetitions):\n",
    "    total_time = 0\n",
    "    for _ in range(repetitions):\n",
    "        start_time = time.time()\n",
    "        func()\n",
    "        end_time = time.time()\n",
    "        \n",
    "        execution_time = (end_time - start_time) * 1000\n",
    "        total_time += execution_time\n",
    "    \n",
    "    return total_time\n",
    "\n",
    "def plot_execution_times(f1_times, f2_times):\n",
    "    plt.plot(f1_times, label='Function 1')\n",
    "    plt.plot(f2_times, label='Function 2')\n",
    "\n",
    "    plt.xlabel('Repetition')\n",
    "    plt.ylabel('Execution Time (ms)')\n",
    "    plt.title('Function Execution Times')\n",
    "    plt.legend()\n",
    "    plt.show()\n",
    "\n",
    "def compare_execution_time(f1_avg_time, f2_avg_time):\n",
    "    time_diff = f1_avg_time - f2_avg_time\n",
    "    print(f\"Difference in execution time f1-f2: {time_diff} ms\")\n",
    "\n",
    "def relative_speedup(f1_avg_time, f2_avg_time):\n",
    "    if f2_avg_time == 0:\n",
    "        return \"Cannot calculate relative speedup. Division by zero.\"\n",
    "    \n",
    "    speedup = f1_avg_time / f2_avg_time\n",
    "    print(f\"Relative speedup f1/f2: {speedup:.2f}x\")\n",
    "\n",
    "def performance_improvement(f1_avg_time, f2_avg_time):\n",
    "    improvement = ((f2_avg_time - f1_avg_time) / f2_avg_time) * 100\n",
    "    print(f\"Performance improvement (f1-f2 / f1): {improvement:.2f}%\")\n",
    "\n",
    "def compare_execution_times(f1_times, f2_times):\n",
    "    f1_avg_time = sum(f1_times) / len(f1_times)\n",
    "    f2_avg_time = sum(f2_times) / len(f2_times)\n",
    "    \n",
    "    compare_execution_time(f1_avg_time, f2_avg_time)\n",
    "    relative_speedup(f1_avg_time, f2_avg_time)\n",
    "    performance_improvement(f1_avg_time, f2_avg_time)"
   ]
  },
  {
   "cell_type": "markdown",
   "metadata": {},
   "source": [
    "# Functions"
   ]
  },
  {
   "cell_type": "code",
   "execution_count": 10,
   "metadata": {},
   "outputs": [],
   "source": [
    "def clean_df(df: pd.DataFrame) -> pd.DataFrame:\n",
    "    column_types = {\n",
    "        'ocean_proximity'     : ColumnType.STRING.value,\n",
    "        'total_bedrooms'      : ColumnType.INTEGER.value,\n",
    "        'total_rooms'         : ColumnType.INTEGER.value,\n",
    "        'start'               : ColumnType.DATETIME.value,\n",
    "        'end'                 : ColumnType.DATETIME.value,\n",
    "    }\n",
    "\n",
    "    cleaned = (\n",
    "        df\n",
    "        .query(\"ocean_proximity == 'INLAND' and total_rooms > 1000\")\n",
    "        .assign(\n",
    "            start = lambda df: df.start.clip(upper = '2140-01-01 00:00:00'),\n",
    "            end = lambda df: df.end.clip(upper = '2140-01-01 00:00:00'),\n",
    "        )\n",
    "        .astype(column_types)\n",
    "        .reset_index(drop=True)\n",
    "    )\n",
    "    return cleaned\n",
    "\n",
    "# Function 1; piped mode\n",
    "def f1():\n",
    "    df = (\n",
    "            pd.read_csv(filepath_or_buffer=\"../data/housing.csv\")\n",
    "            .assign(\n",
    "                start = datetime.datetime.now(),\n",
    "                end = datetime.datetime.now()\n",
    "            ).pipe(clean_df)\n",
    "    )\n",
    "\n",
    "# Function 2; non-piped mode\n",
    "def f2():\n",
    "    # semi-piped mode\n",
    "    df = pd.read_csv(filepath_or_buffer=\"../data/housing.csv\")\n",
    "    df['start'] = datetime.datetime.now()\n",
    "    df['end'] = datetime.datetime.now()\n",
    "    df = df[(df['ocean_proximity']=='INLAND') & (df['total_rooms']>1000)]\n",
    "    df['start'] = df['start'].clip(upper = '2140-01-01 00:00:00')\n",
    "    df['start'] = df['start'].clip(upper = '2140-01-01 00:00:00')\n",
    "    column_types = {\n",
    "        'ocean_proximity'               : ColumnType.STRING.value,\n",
    "        'total_bedrooms'                : ColumnType.INTEGER.value,\n",
    "        'total_rooms'                   : ColumnType.INTEGER.value,\n",
    "        'start'                         : ColumnType.DATETIME.value,\n",
    "        'end'                           : ColumnType.DATETIME.value,\n",
    "    }\n",
    "    df = df.astype(column_types).reset_index()"
   ]
  },
  {
   "cell_type": "markdown",
   "metadata": {},
   "source": [
    "# Compare executions\n"
   ]
  },
  {
   "cell_type": "code",
   "execution_count": 12,
   "metadata": {},
   "outputs": [
    {
     "data": {
      "image/png": "[encoded data removed]",
      "text/plain": [
       "<Figure size 432x288 with 1 Axes>"
      ]
     },
     "metadata": {
      "needs_background": "light"
     },
     "output_type": "display_data"
    },
    {
     "name": "stdout",
     "output_type": "stream",
     "text": [
      "Difference in execution time f1-f2: 136.67974472045898 ms\n",
      "Relative speedup f1/f2: 1.05x\n",
      "Performance improvement (f1-f2 / f1): -4.94%\n"
     ]
    }
   ],
   "source": [
    "print(f\"Function 1 is piped\")\n",
    "print(f\"Function 2 is std\")\n",
    "\n",
    "# plot exec times\n",
    "times = []\n",
    "for reps in range(1, 200, 20):\n",
    "    t1 = time_function(f1, reps)\n",
    "    t2 = time_function(f2, reps)\n",
    "    times.append( (t1,t2) )\n",
    "\n",
    "\n",
    "plot_execution_times([t[0] for t in times], [t[1] for t in times])\n",
    "\n",
    "\n",
    "# Compare execution times, faster is better\n",
    "compare_execution_times(\n",
    "    [t[0] for t in times],\n",
    "    [t[1] for t in times]\n",
    "    )"
   ]
  }
 ],
 "metadata": {
  "kernelspec": {
   "display_name": "Python 3",
   "language": "python",
   "name": "python3"
  },
  "language_info": {
   "codemirror_mode": {
    "name": "ipython",
    "version": 3
   },
   "file_extension": ".py",
   "mimetype": "text/x-python",
   "name": "python",
   "nbconvert_exporter": "python",
   "pygments_lexer": "ipython3",
   "version": "3.9.6"
  },
  "orig_nbformat": 4
 },
 "nbformat": 4,
 "nbformat_minor": 2
}
