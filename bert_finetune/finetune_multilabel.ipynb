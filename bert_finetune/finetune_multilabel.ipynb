{
 "cells": [
  {
   "cell_type": "markdown",
   "metadata": {},
   "source": [
    "# BERT fine-tune"
   ]
  },
  {
   "cell_type": "markdown",
   "metadata": {},
   "source": [
    "Fine tune BERT with a few sentences on Bart and Homer Simpson. Given a sentence, BERT will return the correct label\n"
   ]
  },
  {
   "cell_type": "code",
   "execution_count": 4,
   "metadata": {},
   "outputs": [],
   "source": [
    "import pandas as pd\n",
    "from sklearn.model_selection import train_test_split\n",
    "\n",
    "# Load the data\n",
    "data = pd.read_csv('data/simpson/dataset_homer_bart.csv')\n",
    "data = data[['Name',  'Sentence']]\n",
    "\n",
    "# Split the data\n",
    "train_data, temp_data = train_test_split(data, test_size=0.2, stratify=data['Name'])\n",
    "val_data, test_data = train_test_split(temp_data, test_size=0.5, stratify=temp_data['Name'])"
   ]
  },
  {
   "cell_type": "markdown",
   "metadata": {},
   "source": [
    "# Tokenise"
   ]
  },
  {
   "cell_type": "code",
   "execution_count": 9,
   "metadata": {},
   "outputs": [],
   "source": [
    "from transformers import BertTokenizer\n",
    "from torch.utils.data import DataLoader, TensorDataset\n",
    "import torch\n",
    "\n",
    "# Initialize the tokenizer\n",
    "tokenizer = BertTokenizer.from_pretrained('bert-base-uncased')\n",
    "\n",
    "def prepare_data(data):\n",
    "    # Tokenize sentences and map to tokens IDs\n",
    "    inputs = tokenizer(data['Sentence'].tolist(), padding=True, truncation=True, return_tensors=\"pt\", max_length=512)\n",
    "    # Map labels to [0, 1]\n",
    "    labels = torch.tensor(data['Name'].map({'Homer': 0, 'Bart': 1}).tolist())\n",
    "    return TensorDataset(inputs['input_ids'], inputs['attention_mask'], labels)\n",
    "\n",
    "train_dataset = prepare_data(train_data)\n",
    "val_dataset = prepare_data(val_data)\n",
    "test_dataset = prepare_data(test_data)\n",
    "\n",
    "train_loader = DataLoader(train_dataset, batch_size=16, shuffle=True)\n",
    "val_loader = DataLoader(val_dataset, batch_size=16)\n",
    "test_loader = DataLoader(test_dataset, batch_size=16)\n"
   ]
  },
  {
   "cell_type": "markdown",
   "metadata": {},
   "source": [
    "# Fine-tune"
   ]
  },
  {
   "cell_type": "code",
   "execution_count": 31,
   "metadata": {},
   "outputs": [
    {
     "name": "stderr",
     "output_type": "stream",
     "text": [
      "Some weights of BertForSequenceClassification were not initialized from the model checkpoint at bert-base-uncased and are newly initialized: ['classifier.bias', 'classifier.weight']\n",
      "You should probably TRAIN this model on a down-stream task to be able to use it for predictions and inference.\n",
      "C:\\Users\\User\\AppData\\Roaming\\Python\\Python310\\site-packages\\transformers\\optimization.py:411: FutureWarning: This implementation of AdamW is deprecated and will be removed in a future version. Use the PyTorch implementation torch.optim.AdamW instead, or set `no_deprecation_warning=True` to disable this warning\n",
      "  warnings.warn(\n"
     ]
    },
    {
     "name": "stdout",
     "output_type": "stream",
     "text": [
      "Epoch: 1, Training Loss: 0.6813, Validation Loss: 0.6658\n",
      "Epoch: 2, Training Loss: 0.5506, Validation Loss: 0.6191\n",
      "Epoch: 3, Training Loss: 0.3787, Validation Loss: 0.6420\n"
     ]
    }
   ],
   "source": [
    "from transformers import BertForSequenceClassification, AdamW\n",
    "from torch.nn import CrossEntropyLoss\n",
    "\n",
    "# Initialize model\n",
    "model = BertForSequenceClassification.from_pretrained('bert-base-uncased', num_labels=2)\n",
    "model.train()\n",
    "\n",
    "# Define loss and optimizer\n",
    "optimizer = AdamW(model.parameters(), lr=2e-5)\n",
    "loss_function = CrossEntropyLoss()\n",
    "\n",
    "# Function to compute the loss on validation data\n",
    "def compute_val_loss(val_loader):\n",
    "    model.eval()  # set the model to evaluation mode\n",
    "    total_loss = 0\n",
    "    with torch.no_grad():\n",
    "        for batch in val_loader:\n",
    "            input_ids, attention_mask, labels = batch\n",
    "            outputs = model(input_ids, attention_mask=attention_mask)\n",
    "            loss = loss_function(outputs.logits, labels)\n",
    "            total_loss += loss.item()\n",
    "    model.train()  # set the model back to training mode\n",
    "    return total_loss / len(val_loader)\n",
    "\n",
    "# Training loop\n",
    "epochs = 3\n",
    "for epoch in range(epochs):\n",
    "    total_train_loss = 0\n",
    "    for batch in train_loader:\n",
    "        optimizer.zero_grad()\n",
    "        input_ids, attention_mask, labels = batch\n",
    "        outputs = model(input_ids, attention_mask=attention_mask)\n",
    "        loss = loss_function(outputs.logits, labels)\n",
    "        loss.backward()\n",
    "        optimizer.step()\n",
    "        total_train_loss += loss.item()\n",
    "\n",
    "    avg_train_loss = total_train_loss / len(train_loader)\n",
    "    val_loss = compute_val_loss(val_loader)\n",
    "    print(f'Epoch: {epoch + 1}, Training Loss: {avg_train_loss:.4f}, Validation Loss: {val_loss:.4f}')\n",
    "\n"
   ]
  },
  {
   "cell_type": "markdown",
   "metadata": {},
   "source": [
    "# Test the mdoel"
   ]
  },
  {
   "cell_type": "code",
   "execution_count": 33,
   "metadata": {},
   "outputs": [
    {
     "name": "stdout",
     "output_type": "stream",
     "text": [
      "Test Loss: 0.5806\n",
      "Test Accuracy: 0.7174\n"
     ]
    }
   ],
   "source": [
    "def evaluate(test_loader):\n",
    "    model.eval()  # set the model to evaluation mode\n",
    "    total_loss = 0\n",
    "    correct_predictions = 0\n",
    "    total_predictions = 0\n",
    "    \n",
    "    with torch.no_grad():\n",
    "        for batch in test_loader:\n",
    "            input_ids, attention_mask, labels = batch\n",
    "            outputs = model(input_ids, attention_mask=attention_mask)\n",
    "            \n",
    "            # Compute loss\n",
    "            loss = loss_function(outputs.logits, labels)\n",
    "            total_loss += loss.item()\n",
    "            \n",
    "            # Compute number of correct predictions\n",
    "            predictions = torch.argmax(outputs.logits, dim=1)\n",
    "            correct_predictions += (predictions == labels).sum().item()\n",
    "            total_predictions += labels.size(0)\n",
    "\n",
    "    avg_test_loss = total_loss / len(test_loader)\n",
    "    accuracy = correct_predictions / total_predictions\n",
    "    \n",
    "    return avg_test_loss, accuracy\n",
    "\n",
    "test_loss, test_accuracy = evaluate(test_loader)\n",
    "print(f\"Test Loss: {test_loss:.4f}\")\n",
    "print(f\"Test Accuracy: {test_accuracy:.4f}\")\n"
   ]
  },
  {
   "cell_type": "markdown",
   "metadata": {},
   "source": [
    "# Save and Load"
   ]
  },
  {
   "cell_type": "code",
   "execution_count": 34,
   "metadata": {},
   "outputs": [],
   "source": [
    "# Save the model and tokenizer\n",
    "model.save_pretrained('model/simpsons')\n",
    "tokenizer.save_pretrained('model/simpsons')\n",
    "\n",
    "# Load the model and tokenizer\n",
    "model = BertForSequenceClassification.from_pretrained('model/simpsons')\n",
    "tokenizer = BertTokenizer.from_pretrained('model/simpsons')"
   ]
  },
  {
   "cell_type": "markdown",
   "metadata": {},
   "source": [
    "# Inference"
   ]
  },
  {
   "cell_type": "code",
   "execution_count": 22,
   "metadata": {},
   "outputs": [],
   "source": [
    "model.eval()\n",
    "\n",
    "def predict(sentence):\n",
    "    inputs = tokenizer(sentence, padding=True, truncation=True, return_tensors=\"pt\", max_length=512)\n",
    "    with torch.no_grad():\n",
    "        outputs = model(inputs['input_ids'], attention_mask=inputs['attention_mask'])\n",
    "    label = torch.argmax(outputs.logits).item()\n",
    "    return 'Homer' if label == 0 else 'Bart'\n"
   ]
  },
  {
   "cell_type": "code",
   "execution_count": 19,
   "metadata": {},
   "outputs": [
    {
     "name": "stdout",
     "output_type": "stream",
     "text": [
      "Predicted Label: Bart\n"
     ]
    }
   ],
   "source": [
    "# Test the model\n",
    "sample_sentence = \"Yeah. Skating is cool!\"\n",
    "prediction = predict(sample_sentence)\n",
    "print(f'Predicted Label: {prediction}')\n"
   ]
  },
  {
   "cell_type": "code",
   "execution_count": 21,
   "metadata": {},
   "outputs": [
    {
     "name": "stdout",
     "output_type": "stream",
     "text": [
      "Predicted Label: Homer\n"
     ]
    }
   ],
   "source": [
    "# Test the model\n",
    "sample_sentence = \"Marge, where are my shoes?\"\n",
    "prediction = predict(sample_sentence)\n",
    "print(f'Predicted Label: {prediction}')"
   ]
  }
 ],
 "metadata": {
  "kernelspec": {
   "display_name": "bert_test",
   "language": "python",
   "name": "python3"
  },
  "language_info": {
   "codemirror_mode": {
    "name": "ipython",
    "version": 3
   },
   "file_extension": ".py",
   "mimetype": "text/x-python",
   "name": "python",
   "nbconvert_exporter": "python",
   "pygments_lexer": "ipython3",
   "version": "3.10.12"
  },
  "orig_nbformat": 4
 },
 "nbformat": 4,
 "nbformat_minor": 2
}
