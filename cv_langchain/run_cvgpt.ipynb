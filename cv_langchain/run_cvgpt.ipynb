{
 "cells": [
  {
   "cell_type": "code",
   "execution_count": null,
   "metadata": {},
   "outputs": [],
   "source": [
    "from langchain.document_loaders import PyPDFLoader\n",
    "from langchain.embeddings import OpenAIEmbeddings\n",
    "from langchain.vectorstores import Chroma\n",
    "from langchain.chains import ChatVectorDBChain\n",
    "from langchain.llms import OpenAI\n",
    "from langchain.chat_models import ChatOpenAI\n",
    "\n",
    "from src.cv_gpt import CVGPT"
   ]
  },
  {
   "cell_type": "code",
   "execution_count": 4,
   "metadata": {},
   "outputs": [
    {
     "name": "stderr",
     "output_type": "stream",
     "text": [
      "C:\\Users\\User\\AppData\\Roaming\\Python\\Python39\\site-packages\\langchain\\llms\\openai.py:200: UserWarning: You are trying to use a chat model. This way of initializing it is no longer supported. Instead, please use: `from langchain.chat_models import ChatOpenAI`\n",
      "  warnings.warn(\n",
      "C:\\Users\\User\\AppData\\Roaming\\Python\\Python39\\site-packages\\langchain\\llms\\openai.py:801: UserWarning: You are trying to use a chat model. This way of initializing it is no longer supported. Instead, please use: `from langchain.chat_models import ChatOpenAI`\n",
      "  warnings.warn(\n",
      "C:\\Users\\User\\AppData\\Roaming\\Python\\Python39\\site-packages\\langchain\\chains\\conversational_retrieval\\base.py:379: UserWarning: `ChatVectorDBChain` is deprecated - please use `from langchain.chains import ConversationalRetrievalChain`\n",
      "  warnings.warn(\n"
     ]
    }
   ],
   "source": [
    "pdf_path = \"../data/08.23 resume.pdf\"\n",
    "model_name = \"gpt-3.5-turbo\"\n",
    "temperature = 0.8\n",
    "\n",
    "cv_gpt = CVGPT(pdf_path, model_name, temperature)"
   ]
  },
  {
   "cell_type": "markdown",
   "metadata": {},
   "source": [
    "# Right questions"
   ]
  },
  {
   "cell_type": "code",
   "execution_count": 5,
   "metadata": {},
   "outputs": [
    {
     "data": {
      "text/plain": [
       "\"Xavier Ferrer Aran is a Data Scientist and Visiting Research Associate at King's College London.\""
      ]
     },
     "execution_count": 5,
     "metadata": {},
     "output_type": "execute_result"
    }
   ],
   "source": [
    "cv_gpt.query_cvgpt(\"Who is he?\")"
   ]
  },
  {
   "cell_type": "code",
   "execution_count": 6,
   "metadata": {},
   "outputs": [
    {
     "data": {
      "text/plain": [
       "'Yes, Xavier Ferrer Aran has experience as a data scientist.'"
      ]
     },
     "execution_count": 6,
     "metadata": {},
     "output_type": "execute_result"
    }
   ],
   "source": [
    "cv_gpt.query_cvgpt(\"Does he have experience as a data scientist?\")"
   ]
  },
  {
   "cell_type": "code",
   "execution_count": 15,
   "metadata": {},
   "outputs": [
    {
     "data": {
      "text/plain": [
       "'Yes, Xavier Ferrer Aran has a strong profile as a machine learning engineer. He has over 9 years of experience in the field of Artificial Intelligence and Machine Learning, and he has worked on various projects related to AI, ML, and NLP. He has also worked as a Machine Learning Engineer, improving and fine-tuning models and implementing recommendation systems. Additionally, he has a PhD in Artificial Intelligence and has created a recommender system using AI and NLP.'"
      ]
     },
     "execution_count": 15,
     "metadata": {},
     "output_type": "execute_result"
    }
   ],
   "source": [
    "cv_gpt.query_cvgpt(\"Does Xavier have a strong profile as a machine learning engineer?\")"
   ]
  },
  {
   "cell_type": "code",
   "execution_count": 12,
   "metadata": {},
   "outputs": [
    {
     "data": {
      "text/plain": [
       "'Yes, Xavier Ferrer Aran has the distinction of Excellent Cum Laude for his PhD in Artificial Intelligence.'"
      ]
     },
     "execution_count": 12,
     "metadata": {},
     "output_type": "execute_result"
    }
   ],
   "source": [
    "cv_gpt.query_cvgpt(\"Does he have any awards?\")"
   ]
  },
  {
   "cell_type": "code",
   "execution_count": 13,
   "metadata": {},
   "outputs": [
    {
     "data": {
      "text/plain": [
       "'Xavier Ferrer Aran had the role of Lead Data Scientist and Senior Data Scientist at Decathlon UK.'"
      ]
     },
     "execution_count": 13,
     "metadata": {},
     "output_type": "execute_result"
    }
   ],
   "source": [
    "cv_gpt.query_cvgpt(\"What was his role at Decathlon UK?\")"
   ]
  },
  {
   "cell_type": "code",
   "execution_count": 14,
   "metadata": {},
   "outputs": [
    {
     "data": {
      "text/plain": [
       "'Xavier Ferrer Aran has worked on projects and areas related to AI, machine learning, recommender systems, natural language processing, fairness in machine learning, and privacy in smart assistants.'"
      ]
     },
     "execution_count": 14,
     "metadata": {},
     "output_type": "execute_result"
    }
   ],
   "source": [
    "cv_gpt.query_cvgpt(\"What has he worked on?\")"
   ]
  },
  {
   "cell_type": "markdown",
   "metadata": {},
   "source": [
    "# Wrong questions"
   ]
  },
  {
   "cell_type": "code",
   "execution_count": 16,
   "metadata": {},
   "outputs": [
    {
     "data": {
      "text/plain": [
       "'Based on the provided information, there is no mention of Xavier Ferrer Aran having experience teaching.'"
      ]
     },
     "execution_count": 16,
     "metadata": {},
     "output_type": "execute_result"
    }
   ],
   "source": [
    "cv_gpt.query_cvgpt(\"Has Xavier experience teaching? what classes and where?\")"
   ]
  },
  {
   "cell_type": "code",
   "execution_count": 18,
   "metadata": {},
   "outputs": [
    {
     "data": {
      "text/plain": [
       "'The given information does not provide any details about the most recent publication of Xavier Ferrer Aran.'"
      ]
     },
     "execution_count": 18,
     "metadata": {},
     "output_type": "execute_result"
    }
   ],
   "source": [
    "cv_gpt.query_cvgpt(\"What's his latest publication?\")"
   ]
  },
  {
   "cell_type": "code",
   "execution_count": 19,
   "metadata": {},
   "outputs": [
    {
     "data": {
      "text/plain": [
       "'No, there is no mention in the provided context that Xavier Ferrer Aran worked with Alexa.'"
      ]
     },
     "execution_count": 19,
     "metadata": {},
     "output_type": "execute_result"
    }
   ],
   "source": [
    "cv_gpt.query_cvgpt(\"has xavier worked with Alexa?\")"
   ]
  },
  {
   "cell_type": "code",
   "execution_count": 21,
   "metadata": {},
   "outputs": [
    {
     "data": {
      "text/plain": [
       "'+44 7542573027'"
      ]
     },
     "execution_count": 21,
     "metadata": {},
     "output_type": "execute_result"
    }
   ],
   "source": [
    "cv_gpt.query_cvgpt(\"Whats Xavier phone number?\")"
   ]
  },
  {
   "cell_type": "markdown",
   "metadata": {},
   "source": [
    "# Check chat history"
   ]
  },
  {
   "cell_type": "code",
   "execution_count": 22,
   "metadata": {},
   "outputs": [
    {
     "data": {
      "text/plain": [
       "[('Who is he?',\n",
       "  \"Xavier Ferrer Aran is a Data Scientist and Visiting Research Associate at King's College London.\"),\n",
       " ('Doe she have experience as a data scientist?',\n",
       "  'Yes, Xavier Ferrer Aran has experience as a data scientist.'),\n",
       " ('Is he a good machine learning engineer?',\n",
       "  'Based on the information provided, it is difficult to determine if Xavier Ferrer Aran is a good machine learning engineer. The information provided mainly focuses on his work experience and education, but does not provide specific details about his skills, accomplishments, or evaluations from colleagues or employers.'),\n",
       " ('Does Xavier have experience as a machine learning engineer?',\n",
       "  'Yes, Xavier Ferrer Aran has experience as a machine learning engineer.'),\n",
       " ('Does Xavier have extense experience as a machine learning engineer?',\n",
       "  'Yes, Xavier Ferrer Aran has experience as a machine learning engineer.'),\n",
       " (\"What's his latest scholar publication?\", \"I don't know.\"),\n",
       " ('Does he have research publications?',\n",
       "  'Based on the provided information, it is not explicitly mentioned whether Xavier Ferrer Aran has research publications.'),\n",
       " ('Does he have any awards?',\n",
       "  'Yes, Xavier Ferrer Aran has the distinction of Excellent Cum Laude for his PhD in Artificial Intelligence.'),\n",
       " ('What was his role at Decathlon UK?',\n",
       "  'Xavier Ferrer Aran had the role of Lead Data Scientist and Senior Data Scientist at Decathlon UK.'),\n",
       " ('What has he worked on?',\n",
       "  'Xavier Ferrer Aran has worked on projects and areas related to AI, machine learning, recommender systems, natural language processing, fairness in machine learning, and privacy in smart assistants.'),\n",
       " ('Does Xavier have a strong profile as a machine learning engineer?',\n",
       "  'Yes, Xavier Ferrer Aran has a strong profile as a machine learning engineer. He has over 9 years of experience in the field of Artificial Intelligence and Machine Learning, and he has worked on various projects related to AI, ML, and NLP. He has also worked as a Machine Learning Engineer, improving and fine-tuning models and implementing recommendation systems. Additionally, he has a PhD in Artificial Intelligence and has created a recommender system using AI and NLP.'),\n",
       " ('Has Xavier experience teaching? what classes and where?',\n",
       "  'Based on the provided information, there is no mention of Xavier Ferrer Aran having experience teaching.'),\n",
       " (\"What's his latest publication?\",\n",
       "  'The given information does not provide any details about the most recent publication of Xavier Ferrer Aran.'),\n",
       " ('has xavier worked with Alexa?',\n",
       "  'No, there is no mention in the provided context that Xavier Ferrer Aran worked with Alexa.'),\n",
       " ('Whats Xavier phone number?', '+44 7542573027')]"
      ]
     },
     "execution_count": 22,
     "metadata": {},
     "output_type": "execute_result"
    }
   ],
   "source": [
    "cv_gpt.chat_history"
   ]
  },
  {
   "cell_type": "code",
   "execution_count": null,
   "metadata": {},
   "outputs": [],
   "source": []
  }
 ],
 "metadata": {
  "kernelspec": {
   "display_name": "Python 3",
   "language": "python",
   "name": "python3"
  },
  "language_info": {
   "codemirror_mode": {
    "name": "ipython",
    "version": 3
   },
   "file_extension": ".py",
   "mimetype": "text/x-python",
   "name": "python",
   "nbconvert_exporter": "python",
   "pygments_lexer": "ipython3",
   "version": "3.9.5"
  },
  "orig_nbformat": 4
 },
 "nbformat": 4,
 "nbformat_minor": 2
}
